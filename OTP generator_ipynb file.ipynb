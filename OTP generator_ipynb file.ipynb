{
 "cells": [
  {
   "cell_type": "code",
   "execution_count": 23,
   "id": "76d251f0",
   "metadata": {},
   "outputs": [
    {
     "name": "stdout",
     "output_type": "stream",
     "text": [
      "This is Your OTP: Ross\n"
     ]
    }
   ],
   "source": [
    "import math, random\n",
    "def generateOTP() :                                          \n",
    "    string = '0123456789abcdefghijklmnopqrstuvwxyzABCDEFGHIJKLMNOPQRSTUVWXYZ'\n",
    "    OTP = \"\"\n",
    "    length=len(string)\n",
    "    for i in range(4) :\n",
    "        OTP += string[math.ceil(random.random() * length)]\n",
    "    return print(f\"This is Your OTP: {OTP}\")\n",
    "generateOTP()"
   ]
  },
  {
   "cell_type": "code",
   "execution_count": null,
   "id": "1fef266e",
   "metadata": {},
   "outputs": [],
   "source": []
  }
 ],
 "metadata": {
  "kernelspec": {
   "display_name": "Python 3.10.4 64-bit",
   "language": "python",
   "name": "python3"
  },
  "language_info": {
   "codemirror_mode": {
    "name": "ipython",
    "version": 3
   },
   "file_extension": ".py",
   "mimetype": "text/x-python",
   "name": "python",
   "nbconvert_exporter": "python",
   "pygments_lexer": "ipython3",
   "version": "3.10.4"
  },
  "vscode": {
   "interpreter": {
    "hash": "a42ccb73e7d9bfdf27e036f1d2b8b681e55fc0743cc5586bc2474d4a60f4b886"
   }
  }
 },
 "nbformat": 4,
 "nbformat_minor": 5
}
